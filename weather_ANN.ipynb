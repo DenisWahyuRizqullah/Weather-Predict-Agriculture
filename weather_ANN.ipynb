{
 "cells": [
  {
   "cell_type": "code",
   "execution_count": null,
   "metadata": {
    "id": "Z_C-6RbqZNcx"
   },
   "outputs": [],
   "source": [
    "import pandas as pd\n"
   ]
  },
  {
   "cell_type": "code",
   "execution_count": null,
   "metadata": {
    "colab": {
     "base_uri": "https://localhost:8080/"
    },
    "id": "8UUg7KUxZd5W",
    "outputId": "d92a53fc-194a-4506-cb3c-b5d6794b260f"
   },
   "outputs": [
    {
     "name": "stdout",
     "output_type": "stream",
     "text": [
      "Drive already mounted at /content/drive; to attempt to forcibly remount, call drive.mount(\"/content/drive\", force_remount=True).\n"
     ]
    }
   ],
   "source": [
    "from google.colab import drive\n",
    "drive.mount('/content/drive')"
   ]
  },
  {
   "cell_type": "code",
   "execution_count": null,
   "metadata": {
    "colab": {
     "base_uri": "https://localhost:8080/"
    },
    "id": "tom8rXBRaAav",
    "outputId": "a0a8a3dc-eb66-4ef1-bd57-9b31c7cea9bc"
   },
   "outputs": [
    {
     "name": "stdout",
     "output_type": "stream",
     "text": [
      "   Temperature  Humidity  Wind Speed  Precipitation (%)    Cloud Cover  \\\n",
      "0         14.0        73         9.5               82.0  partly cloudy   \n",
      "1         39.0        96         8.5               71.0  partly cloudy   \n",
      "2         30.0        64         7.0               16.0          clear   \n",
      "3         38.0        83         1.5               82.0          clear   \n",
      "4         27.0        74        17.0               66.0       overcast   \n",
      "\n",
      "   Atmospheric Pressure  UV Index  Season  Visibility (km)  Location  \\\n",
      "0               1010.82         2  Winter              3.5    inland   \n",
      "1               1011.43         7  Spring             10.0    inland   \n",
      "2               1018.72         5  Spring              5.5  mountain   \n",
      "3               1026.25         7  Spring              1.0   coastal   \n",
      "4                990.67         1  Winter              2.5  mountain   \n",
      "\n",
      "  Weather Type  \n",
      "0        Rainy  \n",
      "1       Cloudy  \n",
      "2        Sunny  \n",
      "3        Sunny  \n",
      "4        Rainy  \n",
      "        Temperature      Humidity    Wind Speed  Precipitation (%)  \\\n",
      "count  13200.000000  13200.000000  13200.000000       13200.000000   \n",
      "mean      19.127576     68.710833      9.832197          53.644394   \n",
      "std       17.386327     20.194248      6.908704          31.946541   \n",
      "min      -25.000000     20.000000      0.000000           0.000000   \n",
      "25%        4.000000     57.000000      5.000000          19.000000   \n",
      "50%       21.000000     70.000000      9.000000          58.000000   \n",
      "75%       31.000000     84.000000     13.500000          82.000000   \n",
      "max      109.000000    109.000000     48.500000         109.000000   \n",
      "\n",
      "       Atmospheric Pressure      UV Index  Visibility (km)  \n",
      "count          13200.000000  13200.000000     13200.000000  \n",
      "mean            1005.827896      4.005758         5.462917  \n",
      "std               37.199589      3.856600         3.371499  \n",
      "min              800.120000      0.000000         0.000000  \n",
      "25%              994.800000      1.000000         3.000000  \n",
      "50%             1007.650000      3.000000         5.000000  \n",
      "75%             1016.772500      7.000000         7.500000  \n",
      "max             1199.210000     14.000000        20.000000  \n",
      "<class 'pandas.core.frame.DataFrame'>\n",
      "RangeIndex: 13200 entries, 0 to 13199\n",
      "Data columns (total 11 columns):\n",
      " #   Column                Non-Null Count  Dtype  \n",
      "---  ------                --------------  -----  \n",
      " 0   Temperature           13200 non-null  float64\n",
      " 1   Humidity              13200 non-null  int64  \n",
      " 2   Wind Speed            13200 non-null  float64\n",
      " 3   Precipitation (%)     13200 non-null  float64\n",
      " 4   Cloud Cover           13200 non-null  object \n",
      " 5   Atmospheric Pressure  13200 non-null  float64\n",
      " 6   UV Index              13200 non-null  int64  \n",
      " 7   Season                13200 non-null  object \n",
      " 8   Visibility (km)       13200 non-null  float64\n",
      " 9   Location              13200 non-null  object \n",
      " 10  Weather Type          13200 non-null  object \n",
      "dtypes: float64(5), int64(2), object(4)\n",
      "memory usage: 1.1+ MB\n",
      "None\n"
     ]
    }
   ],
   "source": [
    "# prompt: akses datset weather_classification_data.csv pada google drive di dataset/weather/weather_classification_data.csv\n",
    "\n",
    "# import pandas as pd\n",
    "# from google.colab import drive\n",
    "# drive.mount('/content/drive')\n",
    "\n",
    "# Assuming the file is at /content/drive/MyDrive/dataset/weather/weather_classification_data.csv\n",
    "# Adjust the path if your file is located elsewhere in your Google Drive.\n",
    "\n",
    "try:\n",
    "  df = pd.read_csv('/content/drive/MyDrive/dataset/weather/weather_classification_data.csv')\n",
    "  print(df.head()) # Display the first few rows of the dataframe\n",
    "  print(df.describe())\n",
    "  print(df.info())\n",
    "except FileNotFoundError:\n",
    "  print(\"Error: File not found. Please check the file path.\")\n",
    "except Exception as e:\n",
    "  print(f\"An error occurred: {e}\")"
   ]
  },
  {
   "cell_type": "code",
   "execution_count": null,
   "metadata": {
    "colab": {
     "base_uri": "https://localhost:8080/"
    },
    "id": "WuHUdn_ca_Am",
    "outputId": "32e66379-cd5b-4865-dd50-bdbf65e4a550"
   },
   "outputs": [
    {
     "name": "stdout",
     "output_type": "stream",
     "text": [
      "   Temperature  Humidity  Atmospheric Pressure  UV Index  Season Weather Type\n",
      "0         14.0        73               1010.82         2  Winter        Rainy\n",
      "1         39.0        96               1011.43         7  Spring       Cloudy\n",
      "2         30.0        64               1018.72         5  Spring        Sunny\n",
      "3         38.0        83               1026.25         7  Spring        Sunny\n",
      "4         27.0        74                990.67         1  Winter        Rainy\n",
      "        Temperature      Humidity  Atmospheric Pressure      UV Index\n",
      "count  13200.000000  13200.000000          13200.000000  13200.000000\n",
      "mean      19.127576     68.710833           1005.827896      4.005758\n",
      "std       17.386327     20.194248             37.199589      3.856600\n",
      "min      -25.000000     20.000000            800.120000      0.000000\n",
      "25%        4.000000     57.000000            994.800000      1.000000\n",
      "50%       21.000000     70.000000           1007.650000      3.000000\n",
      "75%       31.000000     84.000000           1016.772500      7.000000\n",
      "max      109.000000    109.000000           1199.210000     14.000000\n",
      "<class 'pandas.core.frame.DataFrame'>\n",
      "RangeIndex: 13200 entries, 0 to 13199\n",
      "Data columns (total 6 columns):\n",
      " #   Column                Non-Null Count  Dtype  \n",
      "---  ------                --------------  -----  \n",
      " 0   Temperature           13200 non-null  float64\n",
      " 1   Humidity              13200 non-null  int64  \n",
      " 2   Atmospheric Pressure  13200 non-null  float64\n",
      " 3   UV Index              13200 non-null  int64  \n",
      " 4   Season                13200 non-null  object \n",
      " 5   Weather Type          13200 non-null  object \n",
      "dtypes: float64(2), int64(2), object(2)\n",
      "memory usage: 618.9+ KB\n",
      "None\n"
     ]
    }
   ],
   "source": [
    "# prompt: hapus kolom Precipitation (%) , Cloud Cover,  Wind Speed ,  Visibility (km),  Location . pada dateset karena tidak digunakan\n",
    "\n",
    "df = df.drop(['Precipitation (%)', 'Cloud Cover', 'Wind Speed', 'Visibility (km)', 'Location'], axis=1)\n",
    "print(df.head()) # Display the first few rows of the dataframe\n",
    "print(df.describe())\n",
    "print(df.info())"
   ]
  },
  {
   "cell_type": "code",
   "execution_count": null,
   "metadata": {
    "colab": {
     "base_uri": "https://localhost:8080/"
    },
    "id": "4U466WdaddqO",
    "outputId": "049ac8b4-e9e9-4c97-c69d-29e5a41aef69"
   },
   "outputs": [
    {
     "name": "stdout",
     "output_type": "stream",
     "text": [
      "   Temperature  Humidity  Wind Speed  Precipitation (%)  Cloud Cover  \\\n",
      "0         14.0        73         9.5               82.0            3   \n",
      "1         39.0        96         8.5               71.0            3   \n",
      "2         30.0        64         7.0               16.0            0   \n",
      "3         38.0        83         1.5               82.0            0   \n",
      "4         27.0        74        17.0               66.0            2   \n",
      "\n",
      "   Atmospheric Pressure  UV Index  Season  Visibility (km)  Location  \\\n",
      "0               1010.82         2       3              3.5         1   \n",
      "1               1011.43         7       1             10.0         1   \n",
      "2               1018.72         5       1              5.5         2   \n",
      "3               1026.25         7       1              1.0         0   \n",
      "4                990.67         1       3              2.5         2   \n",
      "\n",
      "   Weather Type  \n",
      "0             1  \n",
      "1             0  \n",
      "2             3  \n",
      "3             3  \n",
      "4             1  \n",
      "<class 'pandas.core.frame.DataFrame'>\n",
      "RangeIndex: 13200 entries, 0 to 13199\n",
      "Data columns (total 11 columns):\n",
      " #   Column                Non-Null Count  Dtype  \n",
      "---  ------                --------------  -----  \n",
      " 0   Temperature           13200 non-null  float64\n",
      " 1   Humidity              13200 non-null  int64  \n",
      " 2   Wind Speed            13200 non-null  float64\n",
      " 3   Precipitation (%)     13200 non-null  float64\n",
      " 4   Cloud Cover           13200 non-null  int64  \n",
      " 5   Atmospheric Pressure  13200 non-null  float64\n",
      " 6   UV Index              13200 non-null  int64  \n",
      " 7   Season                13200 non-null  int64  \n",
      " 8   Visibility (km)       13200 non-null  float64\n",
      " 9   Location              13200 non-null  int64  \n",
      " 10  Weather Type          13200 non-null  int64  \n",
      "dtypes: float64(5), int64(6)\n",
      "memory usage: 1.1 MB\n",
      "None\n"
     ]
    }
   ],
   "source": [
    "# prompt: ubah data ketegorical menjadi menjadi numerical\n",
    "\n",
    "from sklearn.preprocessing import LabelEncoder\n",
    "\n",
    "# Assuming 'Weather' is the categorical column you want to convert\n",
    "le = LabelEncoder()\n",
    "df['Weather Type'] = le.fit_transform(df['Weather Type'])\n",
    "df['Season'] = le.fit_transform(df['Season'])\n",
    "\n",
    "df['Cloud Cover'] = le.fit_transform(df['Cloud Cover'])\n",
    "df['Location'] = le.fit_transform(df['Location'])\n",
    "\n",
    "print(df.head())\n",
    "print(df.info())"
   ]
  },
  {
   "cell_type": "code",
   "execution_count": null,
   "metadata": {
    "colab": {
     "base_uri": "https://localhost:8080/"
    },
    "id": "gz-onBtzeAnj",
    "outputId": "8b9ba7cc-c7a0-4536-fc4a-2378b67c3a0f"
   },
   "outputs": [
    {
     "name": "stdout",
     "output_type": "stream",
     "text": [
      "   Temperature  Humidity  Wind Speed  Precipitation (%)  Cloud Cover  \\\n",
      "0         14.0        73         9.5               82.0            3   \n",
      "1         39.0        96         8.5               71.0            3   \n",
      "2         30.0        64         7.0               16.0            0   \n",
      "3         38.0        83         1.5               82.0            0   \n",
      "4         27.0        74        17.0               66.0            2   \n",
      "\n",
      "   Atmospheric Pressure  UV Index  Season  Visibility (km)  Location  \n",
      "0               1010.82         2       3              3.5         1  \n",
      "1               1011.43         7       1             10.0         1  \n",
      "2               1018.72         5       1              5.5         2  \n",
      "3               1026.25         7       1              1.0         0  \n",
      "4                990.67         1       3              2.5         2  \n",
      "0    1\n",
      "1    0\n",
      "2    3\n",
      "3    3\n",
      "4    1\n",
      "Name: Weather Type, dtype: int64\n"
     ]
    }
   ],
   "source": [
    "# prompt: Pisahkan Label dan fitur\n",
    "\n",
    "# Separate features (X) and target variable (y)\n",
    "X = df.drop('Weather Type', axis=1)  # Features are all columns except 'Weather Type'\n",
    "y = df['Weather Type']  # Target variable is 'Weather Type'\n",
    "\n",
    "print(X.head())\n",
    "print(y.head())"
   ]
  },
  {
   "cell_type": "code",
   "execution_count": null,
   "metadata": {
    "colab": {
     "base_uri": "https://localhost:8080/"
    },
    "id": "pw3a4xaaeStN",
    "outputId": "94a972bc-eacc-4a7d-c43d-6b3ed6b2a161"
   },
   "outputs": [
    {
     "name": "stdout",
     "output_type": "stream",
     "text": [
      "X_train shape: (10560, 10)\n",
      "X_test shape: (2640, 10)\n",
      "y_train shape: (10560,)\n",
      "y_test shape: (2640,)\n"
     ]
    }
   ],
   "source": [
    "# prompt: split dataset yang dibunakan menjadi 80% untuk training dan 20% untuk testing\n",
    "\n",
    "from sklearn.model_selection import train_test_split\n",
    "\n",
    "# Split the dataset into training and testing sets\n",
    "X_train, X_test, y_train, y_test = train_test_split(X, y, test_size=0.2, random_state=42) # 80% training, 20% testing\n",
    "\n",
    "print(\"X_train shape:\", X_train.shape)\n",
    "print(\"X_test shape:\", X_test.shape)\n",
    "print(\"y_train shape:\", y_train.shape)\n",
    "print(\"y_test shape:\", y_test.shape)"
   ]
  },
  {
   "cell_type": "markdown",
   "metadata": {
    "id": "TEe1HYKwF9pn"
   },
   "source": []
  },
  {
   "cell_type": "code",
   "execution_count": null,
   "metadata": {
    "colab": {
     "base_uri": "https://localhost:8080/"
    },
    "id": "A9hgacFTEwr0",
    "outputId": "094d06f7-01dc-4cbd-f42f-4c392a44b8dc"
   },
   "outputs": [
    {
     "name": "stdout",
     "output_type": "stream",
     "text": [
      "Epoch 1/50\n"
     ]
    },
    {
     "name": "stderr",
     "output_type": "stream",
     "text": [
      "/usr/local/lib/python3.10/dist-packages/keras/src/layers/core/dense.py:87: UserWarning: Do not pass an `input_shape`/`input_dim` argument to a layer. When using Sequential models, prefer using an `Input(shape)` object as the first layer in the model instead.\n",
      "  super().__init__(activity_regularizer=activity_regularizer, **kwargs)\n"
     ]
    },
    {
     "name": "stdout",
     "output_type": "stream",
     "text": [
      "\u001b[1m297/297\u001b[0m \u001b[32m━━━━━━━━━━━━━━━━━━━━\u001b[0m\u001b[37m\u001b[0m \u001b[1m3s\u001b[0m 6ms/step - accuracy: 0.3922 - loss: 13.9213 - val_accuracy: 0.6155 - val_loss: 1.0157\n",
      "Epoch 2/50\n",
      "\u001b[1m297/297\u001b[0m \u001b[32m━━━━━━━━━━━━━━━━━━━━\u001b[0m\u001b[37m\u001b[0m \u001b[1m1s\u001b[0m 3ms/step - accuracy: 0.7011 - loss: 0.9780 - val_accuracy: 0.8381 - val_loss: 0.6289\n",
      "Epoch 3/50\n",
      "\u001b[1m297/297\u001b[0m \u001b[32m━━━━━━━━━━━━━━━━━━━━\u001b[0m\u001b[37m\u001b[0m \u001b[1m1s\u001b[0m 2ms/step - accuracy: 0.7585 - loss: 0.7843 - val_accuracy: 0.7973 - val_loss: 0.5817\n",
      "Epoch 4/50\n",
      "\u001b[1m297/297\u001b[0m \u001b[32m━━━━━━━━━━━━━━━━━━━━\u001b[0m\u001b[37m\u001b[0m \u001b[1m1s\u001b[0m 2ms/step - accuracy: 0.7848 - loss: 0.7110 - val_accuracy: 0.8617 - val_loss: 0.5312\n",
      "Epoch 5/50\n",
      "\u001b[1m297/297\u001b[0m \u001b[32m━━━━━━━━━━━━━━━━━━━━\u001b[0m\u001b[37m\u001b[0m \u001b[1m1s\u001b[0m 2ms/step - accuracy: 0.7653 - loss: 0.7334 - val_accuracy: 0.8286 - val_loss: 0.6076\n",
      "Epoch 6/50\n",
      "\u001b[1m297/297\u001b[0m \u001b[32m━━━━━━━━━━━━━━━━━━━━\u001b[0m\u001b[37m\u001b[0m \u001b[1m1s\u001b[0m 2ms/step - accuracy: 0.7784 - loss: 0.7229 - val_accuracy: 0.8475 - val_loss: 0.5082\n",
      "Epoch 7/50\n",
      "\u001b[1m297/297\u001b[0m \u001b[32m━━━━━━━━━━━━━━━━━━━━\u001b[0m\u001b[37m\u001b[0m \u001b[1m1s\u001b[0m 2ms/step - accuracy: 0.8040 - loss: 0.6469 - val_accuracy: 0.8627 - val_loss: 0.4957\n",
      "Epoch 8/50\n",
      "\u001b[1m297/297\u001b[0m \u001b[32m━━━━━━━━━━━━━━━━━━━━\u001b[0m\u001b[37m\u001b[0m \u001b[1m1s\u001b[0m 2ms/step - accuracy: 0.8262 - loss: 0.5740 - val_accuracy: 0.8589 - val_loss: 0.4948\n",
      "Epoch 9/50\n",
      "\u001b[1m297/297\u001b[0m \u001b[32m━━━━━━━━━━━━━━━━━━━━\u001b[0m\u001b[37m\u001b[0m \u001b[1m1s\u001b[0m 2ms/step - accuracy: 0.7951 - loss: 0.6725 - val_accuracy: 0.7330 - val_loss: 0.8183\n",
      "Epoch 10/50\n",
      "\u001b[1m297/297\u001b[0m \u001b[32m━━━━━━━━━━━━━━━━━━━━\u001b[0m\u001b[37m\u001b[0m \u001b[1m1s\u001b[0m 2ms/step - accuracy: 0.7887 - loss: 0.7442 - val_accuracy: 0.8665 - val_loss: 0.4662\n",
      "Epoch 11/50\n",
      "\u001b[1m297/297\u001b[0m \u001b[32m━━━━━━━━━━━━━━━━━━━━\u001b[0m\u001b[37m\u001b[0m \u001b[1m1s\u001b[0m 2ms/step - accuracy: 0.8435 - loss: 0.5317 - val_accuracy: 0.8371 - val_loss: 0.5355\n",
      "Epoch 12/50\n",
      "\u001b[1m297/297\u001b[0m \u001b[32m━━━━━━━━━━━━━━━━━━━━\u001b[0m\u001b[37m\u001b[0m \u001b[1m1s\u001b[0m 2ms/step - accuracy: 0.8366 - loss: 0.5620 - val_accuracy: 0.8163 - val_loss: 0.5528\n",
      "Epoch 13/50\n",
      "\u001b[1m297/297\u001b[0m \u001b[32m━━━━━━━━━━━━━━━━━━━━\u001b[0m\u001b[37m\u001b[0m \u001b[1m1s\u001b[0m 2ms/step - accuracy: 0.8431 - loss: 0.5623 - val_accuracy: 0.8286 - val_loss: 0.6164\n",
      "Epoch 14/50\n",
      "\u001b[1m297/297\u001b[0m \u001b[32m━━━━━━━━━━━━━━━━━━━━\u001b[0m\u001b[37m\u001b[0m \u001b[1m1s\u001b[0m 2ms/step - accuracy: 0.8029 - loss: 0.7214 - val_accuracy: 0.8930 - val_loss: 0.3775\n",
      "Epoch 15/50\n",
      "\u001b[1m297/297\u001b[0m \u001b[32m━━━━━━━━━━━━━━━━━━━━\u001b[0m\u001b[37m\u001b[0m \u001b[1m1s\u001b[0m 2ms/step - accuracy: 0.8464 - loss: 0.5382 - val_accuracy: 0.8087 - val_loss: 0.5967\n",
      "Epoch 16/50\n",
      "\u001b[1m297/297\u001b[0m \u001b[32m━━━━━━━━━━━━━━━━━━━━\u001b[0m\u001b[37m\u001b[0m \u001b[1m1s\u001b[0m 2ms/step - accuracy: 0.8366 - loss: 0.5461 - val_accuracy: 0.8646 - val_loss: 0.4768\n",
      "Epoch 17/50\n",
      "\u001b[1m297/297\u001b[0m \u001b[32m━━━━━━━━━━━━━━━━━━━━\u001b[0m\u001b[37m\u001b[0m \u001b[1m1s\u001b[0m 2ms/step - accuracy: 0.8472 - loss: 0.5334 - val_accuracy: 0.8201 - val_loss: 0.6330\n",
      "Epoch 18/50\n",
      "\u001b[1m297/297\u001b[0m \u001b[32m━━━━━━━━━━━━━━━━━━━━\u001b[0m\u001b[37m\u001b[0m \u001b[1m1s\u001b[0m 2ms/step - accuracy: 0.8403 - loss: 0.5522 - val_accuracy: 0.8295 - val_loss: 0.5658\n",
      "Epoch 19/50\n",
      "\u001b[1m297/297\u001b[0m \u001b[32m━━━━━━━━━━━━━━━━━━━━\u001b[0m\u001b[37m\u001b[0m \u001b[1m1s\u001b[0m 3ms/step - accuracy: 0.8474 - loss: 0.5167 - val_accuracy: 0.8883 - val_loss: 0.3635\n",
      "Epoch 20/50\n",
      "\u001b[1m297/297\u001b[0m \u001b[32m━━━━━━━━━━━━━━━━━━━━\u001b[0m\u001b[37m\u001b[0m \u001b[1m1s\u001b[0m 3ms/step - accuracy: 0.8591 - loss: 0.4737 - val_accuracy: 0.8911 - val_loss: 0.3764\n",
      "Epoch 21/50\n",
      "\u001b[1m297/297\u001b[0m \u001b[32m━━━━━━━━━━━━━━━━━━━━\u001b[0m\u001b[37m\u001b[0m \u001b[1m1s\u001b[0m 3ms/step - accuracy: 0.8476 - loss: 0.5266 - val_accuracy: 0.8731 - val_loss: 0.4334\n",
      "Epoch 22/50\n",
      "\u001b[1m297/297\u001b[0m \u001b[32m━━━━━━━━━━━━━━━━━━━━\u001b[0m\u001b[37m\u001b[0m \u001b[1m1s\u001b[0m 2ms/step - accuracy: 0.8471 - loss: 0.5041 - val_accuracy: 0.7472 - val_loss: 0.7927\n",
      "Epoch 23/50\n",
      "\u001b[1m297/297\u001b[0m \u001b[32m━━━━━━━━━━━━━━━━━━━━\u001b[0m\u001b[37m\u001b[0m \u001b[1m1s\u001b[0m 2ms/step - accuracy: 0.8302 - loss: 0.5833 - val_accuracy: 0.8864 - val_loss: 0.4242\n",
      "Epoch 24/50\n",
      "\u001b[1m297/297\u001b[0m \u001b[32m━━━━━━━━━━━━━━━━━━━━\u001b[0m\u001b[37m\u001b[0m \u001b[1m1s\u001b[0m 2ms/step - accuracy: 0.8361 - loss: 0.5360 - val_accuracy: 0.8314 - val_loss: 0.5604\n",
      "Epoch 25/50\n",
      "\u001b[1m297/297\u001b[0m \u001b[32m━━━━━━━━━━━━━━━━━━━━\u001b[0m\u001b[37m\u001b[0m \u001b[1m1s\u001b[0m 2ms/step - accuracy: 0.8584 - loss: 0.4713 - val_accuracy: 0.8513 - val_loss: 0.4887\n",
      "Epoch 26/50\n",
      "\u001b[1m297/297\u001b[0m \u001b[32m━━━━━━━━━━━━━━━━━━━━\u001b[0m\u001b[37m\u001b[0m \u001b[1m1s\u001b[0m 2ms/step - accuracy: 0.8395 - loss: 0.5205 - val_accuracy: 0.8892 - val_loss: 0.3658\n",
      "Epoch 27/50\n",
      "\u001b[1m297/297\u001b[0m \u001b[32m━━━━━━━━━━━━━━━━━━━━\u001b[0m\u001b[37m\u001b[0m \u001b[1m1s\u001b[0m 2ms/step - accuracy: 0.8579 - loss: 0.4732 - val_accuracy: 0.8902 - val_loss: 0.3663\n",
      "Epoch 28/50\n",
      "\u001b[1m297/297\u001b[0m \u001b[32m━━━━━━━━━━━━━━━━━━━━\u001b[0m\u001b[37m\u001b[0m \u001b[1m1s\u001b[0m 2ms/step - accuracy: 0.8605 - loss: 0.4705 - val_accuracy: 0.8712 - val_loss: 0.4034\n",
      "Epoch 29/50\n",
      "\u001b[1m297/297\u001b[0m \u001b[32m━━━━━━━━━━━━━━━━━━━━\u001b[0m\u001b[37m\u001b[0m \u001b[1m1s\u001b[0m 2ms/step - accuracy: 0.8521 - loss: 0.4912 - val_accuracy: 0.8722 - val_loss: 0.4230\n",
      "Epoch 30/50\n",
      "\u001b[1m297/297\u001b[0m \u001b[32m━━━━━━━━━━━━━━━━━━━━\u001b[0m\u001b[37m\u001b[0m \u001b[1m1s\u001b[0m 2ms/step - accuracy: 0.8562 - loss: 0.4924 - val_accuracy: 0.8920 - val_loss: 0.3373\n",
      "Epoch 31/50\n",
      "\u001b[1m297/297\u001b[0m \u001b[32m━━━━━━━━━━━━━━━━━━━━\u001b[0m\u001b[37m\u001b[0m \u001b[1m1s\u001b[0m 2ms/step - accuracy: 0.8630 - loss: 0.4413 - val_accuracy: 0.8693 - val_loss: 0.4117\n",
      "Epoch 32/50\n",
      "\u001b[1m297/297\u001b[0m \u001b[32m━━━━━━━━━━━━━━━━━━━━\u001b[0m\u001b[37m\u001b[0m \u001b[1m1s\u001b[0m 2ms/step - accuracy: 0.8541 - loss: 0.4702 - val_accuracy: 0.8930 - val_loss: 0.3553\n",
      "Epoch 33/50\n",
      "\u001b[1m297/297\u001b[0m \u001b[32m━━━━━━━━━━━━━━━━━━━━\u001b[0m\u001b[37m\u001b[0m \u001b[1m1s\u001b[0m 2ms/step - accuracy: 0.8725 - loss: 0.4154 - val_accuracy: 0.8835 - val_loss: 0.3687\n",
      "Epoch 34/50\n",
      "\u001b[1m297/297\u001b[0m \u001b[32m━━━━━━━━━━━━━━━━━━━━\u001b[0m\u001b[37m\u001b[0m \u001b[1m1s\u001b[0m 2ms/step - accuracy: 0.8702 - loss: 0.4254 - val_accuracy: 0.8987 - val_loss: 0.3224\n",
      "Epoch 35/50\n",
      "\u001b[1m297/297\u001b[0m \u001b[32m━━━━━━━━━━━━━━━━━━━━\u001b[0m\u001b[37m\u001b[0m \u001b[1m1s\u001b[0m 2ms/step - accuracy: 0.8636 - loss: 0.4337 - val_accuracy: 0.8589 - val_loss: 0.4943\n",
      "Epoch 36/50\n",
      "\u001b[1m297/297\u001b[0m \u001b[32m━━━━━━━━━━━━━━━━━━━━\u001b[0m\u001b[37m\u001b[0m \u001b[1m1s\u001b[0m 2ms/step - accuracy: 0.8676 - loss: 0.4298 - val_accuracy: 0.8674 - val_loss: 0.4777\n",
      "Epoch 37/50\n",
      "\u001b[1m297/297\u001b[0m \u001b[32m━━━━━━━━━━━━━━━━━━━━\u001b[0m\u001b[37m\u001b[0m \u001b[1m1s\u001b[0m 2ms/step - accuracy: 0.8703 - loss: 0.4082 - val_accuracy: 0.8873 - val_loss: 0.3832\n",
      "Epoch 38/50\n",
      "\u001b[1m297/297\u001b[0m \u001b[32m━━━━━━━━━━━━━━━━━━━━\u001b[0m\u001b[37m\u001b[0m \u001b[1m1s\u001b[0m 2ms/step - accuracy: 0.8589 - loss: 0.4462 - val_accuracy: 0.8920 - val_loss: 0.3370\n",
      "Epoch 39/50\n",
      "\u001b[1m297/297\u001b[0m \u001b[32m━━━━━━━━━━━━━━━━━━━━\u001b[0m\u001b[37m\u001b[0m \u001b[1m1s\u001b[0m 2ms/step - accuracy: 0.8643 - loss: 0.4121 - val_accuracy: 0.9034 - val_loss: 0.3145\n",
      "Epoch 40/50\n",
      "\u001b[1m297/297\u001b[0m \u001b[32m━━━━━━━━━━━━━━━━━━━━\u001b[0m\u001b[37m\u001b[0m \u001b[1m1s\u001b[0m 3ms/step - accuracy: 0.8721 - loss: 0.4002 - val_accuracy: 0.8002 - val_loss: 0.6331\n",
      "Epoch 41/50\n",
      "\u001b[1m297/297\u001b[0m \u001b[32m━━━━━━━━━━━━━━━━━━━━\u001b[0m\u001b[37m\u001b[0m \u001b[1m1s\u001b[0m 3ms/step - accuracy: 0.8547 - loss: 0.4556 - val_accuracy: 0.7917 - val_loss: 0.6055\n",
      "Epoch 42/50\n",
      "\u001b[1m297/297\u001b[0m \u001b[32m━━━━━━━━━━━━━━━━━━━━\u001b[0m\u001b[37m\u001b[0m \u001b[1m1s\u001b[0m 2ms/step - accuracy: 0.8655 - loss: 0.4167 - val_accuracy: 0.8788 - val_loss: 0.4138\n",
      "Epoch 43/50\n",
      "\u001b[1m297/297\u001b[0m \u001b[32m━━━━━━━━━━━━━━━━━━━━\u001b[0m\u001b[37m\u001b[0m \u001b[1m1s\u001b[0m 2ms/step - accuracy: 0.8678 - loss: 0.4141 - val_accuracy: 0.8428 - val_loss: 0.5348\n",
      "Epoch 44/50\n",
      "\u001b[1m297/297\u001b[0m \u001b[32m━━━━━━━━━━━━━━━━━━━━\u001b[0m\u001b[37m\u001b[0m \u001b[1m1s\u001b[0m 2ms/step - accuracy: 0.8705 - loss: 0.3956 - val_accuracy: 0.8996 - val_loss: 0.3448\n",
      "Epoch 45/50\n",
      "\u001b[1m297/297\u001b[0m \u001b[32m━━━━━━━━━━━━━━━━━━━━\u001b[0m\u001b[37m\u001b[0m \u001b[1m1s\u001b[0m 2ms/step - accuracy: 0.8761 - loss: 0.3902 - val_accuracy: 0.9034 - val_loss: 0.3142\n",
      "Epoch 46/50\n",
      "\u001b[1m297/297\u001b[0m \u001b[32m━━━━━━━━━━━━━━━━━━━━\u001b[0m\u001b[37m\u001b[0m \u001b[1m1s\u001b[0m 2ms/step - accuracy: 0.8817 - loss: 0.3729 - val_accuracy: 0.8920 - val_loss: 0.3751\n",
      "Epoch 47/50\n",
      "\u001b[1m297/297\u001b[0m \u001b[32m━━━━━━━━━━━━━━━━━━━━\u001b[0m\u001b[37m\u001b[0m \u001b[1m1s\u001b[0m 2ms/step - accuracy: 0.8735 - loss: 0.3879 - val_accuracy: 0.8542 - val_loss: 0.4193\n",
      "Epoch 48/50\n",
      "\u001b[1m297/297\u001b[0m \u001b[32m━━━━━━━━━━━━━━━━━━━━\u001b[0m\u001b[37m\u001b[0m \u001b[1m1s\u001b[0m 2ms/step - accuracy: 0.8791 - loss: 0.3736 - val_accuracy: 0.8854 - val_loss: 0.3652\n",
      "Epoch 49/50\n",
      "\u001b[1m297/297\u001b[0m \u001b[32m━━━━━━━━━━━━━━━━━━━━\u001b[0m\u001b[37m\u001b[0m \u001b[1m1s\u001b[0m 2ms/step - accuracy: 0.8656 - loss: 0.4170 - val_accuracy: 0.9015 - val_loss: 0.3113\n",
      "Epoch 50/50\n",
      "\u001b[1m297/297\u001b[0m \u001b[32m━━━━━━━━━━━━━━━━━━━━\u001b[0m\u001b[37m\u001b[0m \u001b[1m1s\u001b[0m 2ms/step - accuracy: 0.8828 - loss: 0.3609 - val_accuracy: 0.9044 - val_loss: 0.3004\n",
      "\u001b[1m83/83\u001b[0m \u001b[32m━━━━━━━━━━━━━━━━━━━━\u001b[0m\u001b[37m\u001b[0m \u001b[1m1s\u001b[0m 7ms/step - accuracy: 0.8974 - loss: 0.3335\n",
      "Test Loss: 0.3360\n",
      "Test Accuracy: 0.8939\n",
      "\u001b[1m83/83\u001b[0m \u001b[32m━━━━━━━━━━━━━━━━━━━━\u001b[0m\u001b[37m\u001b[0m \u001b[1m0s\u001b[0m 2ms/step\n",
      "              precision    recall  f1-score   support\n",
      "\n",
      "           0       0.83      0.89      0.86       651\n",
      "           1       0.90      0.87      0.88       647\n",
      "           2       0.95      0.93      0.94       701\n",
      "           3       0.89      0.88      0.89       641\n",
      "\n",
      "    accuracy                           0.89      2640\n",
      "   macro avg       0.89      0.89      0.89      2640\n",
      "weighted avg       0.90      0.89      0.89      2640\n",
      "\n"
     ]
    }
   ],
   "source": [
    "# prompt: lakukan pelatihan dengan model ANN\n",
    "\n",
    "import tensorflow as tf\n",
    "from tensorflow import keras\n",
    "from tensorflow.keras.models import Sequential\n",
    "from tensorflow.keras.layers import Dense\n",
    "\n",
    "# Define the ANN model\n",
    "model = Sequential()\n",
    "model.add(Dense(64, activation='relu', input_shape=(X_train.shape[1],))) # Input layer with 64 neurons\n",
    "model.add(Dense(32, activation='relu')) # Hidden layer with 32 neurons\n",
    "model.add(Dense(len(y_train.unique()), activation='softmax')) # Output layer with softmax activation\n",
    "\n",
    "# Compile the model\n",
    "model.compile(optimizer='adam', loss='sparse_categorical_crossentropy', metrics=['accuracy'])\n",
    "\n",
    "# Train the model\n",
    "model.fit(X_train, y_train, epochs=50, batch_size=32, validation_split=0.1) # Adjust epochs and batch size as needed\n",
    "\n",
    "\n",
    "# Evaluate the model\n",
    "loss, accuracy = model.evaluate(X_test, y_test)\n",
    "print(f\"Test Loss: {loss:.4f}\")\n",
    "print(f\"Test Accuracy: {accuracy:.4f}\")\n",
    "\n",
    "# Make predictions (optional)\n",
    "y_pred = model.predict(X_test)\n",
    "y_pred_classes = tf.argmax(y_pred, axis=1) # Convert probabilities to class labels\n",
    "\n",
    "print(classification_report(y_test, y_pred_classes))"
   ]
  },
  {
   "cell_type": "code",
   "execution_count": null,
   "metadata": {
    "colab": {
     "base_uri": "https://localhost:8080/",
     "height": 757
    },
    "id": "lblotS5_Jtas",
    "outputId": "5334f26c-44bf-4649-decc-56ce44ed4ad8"
   },
   "outputs": [
    {
     "data": {
      "image/png": "[encoded data removed]",
      "text/plain": [
       "<Figure size 1000x800 with 2 Axes>"
      ]
     },
     "metadata": {},
     "output_type": "display_data"
    }
   ],
   "source": [
    "import numpy as np\n",
    "from sklearn.metrics import confusion_matrix\n",
    "import matplotlib.pyplot as plt\n",
    "import seaborn as sns\n",
    "\n",
    "# Definisikan kelas yang diinginkan\n",
    "classes = ['Cloudy', 'Rainy', 'Snowy', 'Sunny']\n",
    "\n",
    "# Calculate the confusion matrix - This line is missing in the original code\n",
    "cm = confusion_matrix(y_test, y_pred_classes) # Assuming y_test and y_pred_classes are defined from previous cells\n",
    "\n",
    "# Plot the confusion matrix\n",
    "plt.figure(figsize=(10, 8))\n",
    "sns.heatmap(cm, annot=True, fmt='d', cmap='Blues',\n",
    "            xticklabels=classes, yticklabels=classes)\n",
    "plt.xlabel('Predicted')\n",
    "plt.ylabel('True')\n",
    "plt.title('Confusion Matrix')\n",
    "plt.tight_layout()\n",
    "plt.show()"
   ]
  },
  {
   "cell_type": "code",
   "execution_count": null,
   "metadata": {
    "colab": {
     "base_uri": "https://localhost:8080/"
    },
    "id": "Og-MQU9qfIWY",
    "outputId": "f109d13b-5206-440e-b236-8f010f872ba2"
   },
   "outputs": [
    {
     "name": "stdout",
     "output_type": "stream",
     "text": [
      "Saved artifact at '/tmp/tmpkx06bazc'. The following endpoints are available:\n",
      "\n",
      "* Endpoint 'serve'\n",
      "  args_0 (POSITIONAL_ONLY): TensorSpec(shape=(None, 10), dtype=tf.float32, name='keras_tensor_14')\n",
      "Output Type:\n",
      "  TensorSpec(shape=(None, 4), dtype=tf.float32, name=None)\n",
      "Captures:\n",
      "  136843842409520: TensorSpec(shape=(), dtype=tf.resource, name=None)\n",
      "  136843501933088: TensorSpec(shape=(), dtype=tf.resource, name=None)\n",
      "  136843501938016: TensorSpec(shape=(), dtype=tf.resource, name=None)\n",
      "  136843501929216: TensorSpec(shape=(), dtype=tf.resource, name=None)\n",
      "  136843501939424: TensorSpec(shape=(), dtype=tf.resource, name=None)\n",
      "  136843501940304: TensorSpec(shape=(), dtype=tf.resource, name=None)\n",
      "TFLite model saved to /content/drive/MyDrive/weather_classification_model.tflite\n"
     ]
    }
   ],
   "source": [
    "# prompt: simpan model dalam format .tflite dan simpan di google drive\n",
    "\n",
    "import pandas as pd\n",
    "from google.colab import drive\n",
    "from sklearn.preprocessing import LabelEncoder\n",
    "from sklearn.model_selection import train_test_split\n",
    "import tensorflow as tf\n",
    "from tensorflow import keras\n",
    "from tensorflow.keras.models import Sequential\n",
    "from tensorflow.keras.layers import Dense\n",
    "\n",
    "\n",
    "\n",
    "# Convert the model to TensorFlow Lite\n",
    "converter = tf.lite.TFLiteConverter.from_keras_model(model)\n",
    "tflite_model = converter.convert()\n",
    "\n",
    "# Save the TFLite model to your Google Drive\n",
    "with open('/content/drive/MyDrive/dataset/weather/weather_Fulldata-classification_model.tflite', 'wb') as f:\n",
    "  f.write(tflite_model)\n",
    "\n",
    "print(\"TFLite model saved to /content/drive/MyDrive/weather_classification_model.tflite\")"
   ]
  }
 ],
 "metadata": {
  "accelerator": "GPU",
  "colab": {
   "gpuType": "T4",
   "provenance": []
  },
  "kernelspec": {
   "display_name": "Python 3",
   "name": "python3"
  },
  "language_info": {
   "name": "python"
  }
 },
 "nbformat": 4,
 "nbformat_minor": 0
}
